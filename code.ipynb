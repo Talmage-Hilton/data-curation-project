{
 "cells": [
  {
   "cell_type": "code",
   "execution_count": 414,
   "metadata": {},
   "outputs": [],
   "source": [
    "import pandas as pd\n",
    "from selenium import webdriver\n",
    "from selenium.webdriver.chrome.service import Service as ChromeService\n",
    "from webdriver_manager.chrome import ChromeDriverManager\n",
    "from selenium.webdriver.common.by import By\n",
    "from selenium.webdriver.support.ui import WebDriverWait\n",
    "from selenium.webdriver.support import expected_conditions as EC\n",
    "from selenium.common.exceptions import StaleElementReferenceException"
   ]
  },
  {
   "cell_type": "code",
   "execution_count": 415,
   "metadata": {},
   "outputs": [],
   "source": [
    "url = 'https://www.footballtransfers.com/us/players/uk-premier-league'"
   ]
  },
  {
   "cell_type": "code",
   "execution_count": 416,
   "metadata": {},
   "outputs": [],
   "source": [
    "driver = webdriver.Chrome(service=ChromeService(ChromeDriverManager().install()))\n",
    "driver.get(url)"
   ]
  },
  {
   "cell_type": "code",
   "execution_count": 417,
   "metadata": {},
   "outputs": [],
   "source": [
    "container = driver.find_element(By.XPATH, \".//tbody[contains(@id, 'player-table-body')]\")\n",
    "all_players = container.find_elements(By.TAG_NAME, \"tr\")"
   ]
  },
  {
   "cell_type": "code",
   "execution_count": 418,
   "metadata": {},
   "outputs": [],
   "source": [
    "players = driver.find_element(By.XPATH, \".//tbody[contains(@id, 'player-table-body')]\")"
   ]
  },
  {
   "cell_type": "code",
   "execution_count": 419,
   "metadata": {},
   "outputs": [],
   "source": [
    "player_name = players.find_element(By.XPATH, \".//div[contains(@class, 'text')]\").text.split('\\n')[0]"
   ]
  },
  {
   "cell_type": "code",
   "execution_count": 420,
   "metadata": {},
   "outputs": [],
   "source": [
    "player_position = players.find_element(By.XPATH, \".//div[contains(@class, 'text')]\").text.split('\\n')[1]"
   ]
  },
  {
   "cell_type": "code",
   "execution_count": 421,
   "metadata": {},
   "outputs": [],
   "source": [
    "player_skill = players.find_element(By.XPATH, \".//div[contains(@class, 'table-skill')]\").text.split('\\n')[0]"
   ]
  },
  {
   "cell_type": "code",
   "execution_count": 422,
   "metadata": {},
   "outputs": [],
   "source": [
    "player_pot = players.find_element(By.XPATH, \".//div[contains(@class, 'table-skill')]\").text.split('\\n')[1]"
   ]
  },
  {
   "cell_type": "code",
   "execution_count": 423,
   "metadata": {},
   "outputs": [],
   "source": [
    "player_etv = players.find_element(By.XPATH, \".//td[contains(@class, 'text-center')]\").text[1:]"
   ]
  },
  {
   "cell_type": "code",
   "execution_count": null,
   "metadata": {},
   "outputs": [],
   "source": []
  },
  {
   "cell_type": "code",
   "execution_count": 424,
   "metadata": {},
   "outputs": [],
   "source": [
    "# pagination = driver.find_element(By.XPATH, \".//button[contains(@class, 'pagination_next_button')]\")\n",
    "pagination = driver.find_element(By.XPATH, \".//button[contains(@class, 'btn')]\")"
   ]
  },
  {
   "cell_type": "code",
   "execution_count": null,
   "metadata": {},
   "outputs": [],
   "source": []
  },
  {
   "cell_type": "code",
   "execution_count": 425,
   "metadata": {},
   "outputs": [],
   "source": [
    "all_players = driver.find_elements(By.XPATH, \".//tbody[contains(@id, 'player-table-body')]\")"
   ]
  },
  {
   "cell_type": "code",
   "execution_count": 426,
   "metadata": {},
   "outputs": [],
   "source": [
    "names = []\n",
    "positions = []\n",
    "skills = []\n",
    "pots = []\n",
    "ETVs = []\n",
    "\n",
    "current_page = 1\n",
    "\n",
    "while current_page <= 10:\n",
    "    try:\n",
    "        container = driver.find_element(By.XPATH, \".//tbody[contains(@id, 'player-table-body')]\")\n",
    "        all_players = container.find_elements(By.TAG_NAME, \"tr\")\n",
    "\n",
    "        for player in all_players:\n",
    "            name = player.find_element(By.XPATH, \".//div[contains(@class, 'text')]\").text.split('\\n')[0]\n",
    "            position = player.find_element(By.XPATH, \".//div[contains(@class, 'text')]\").text.split('\\n')[1]\n",
    "            skill = player.find_element(By.XPATH, \".//div[contains(@class, 'table-skill')]\").text.split('\\n')[0]\n",
    "            pot = player.find_element(By.XPATH, \".//div[contains(@class, 'table-skill')]\").text.split('\\n')[1]\n",
    "            etv = player.find_element(By.XPATH, \".//td[contains(@class, 'text-center')]\").text[1:]\n",
    "\n",
    "            names.append(name)\n",
    "            positions.append(position)\n",
    "            skills.append(skill)\n",
    "            pots.append(pot)\n",
    "            ETVs.append(etv)\n",
    "\n",
    "        current_page += 1\n",
    "\n",
    "        try:\n",
    "            next_button = driver.find_element(By.XPATH, \".//button[contains(@class, 'pagination_next_button')]\")\n",
    "            next_button.click()\n",
    "        except:\n",
    "            break  # Exit the loop if the \"Next\" button is not found\n",
    "\n",
    "    except StaleElementReferenceException:\n",
    "        continue"
   ]
  },
  {
   "cell_type": "code",
   "execution_count": 427,
   "metadata": {},
   "outputs": [],
   "source": [
    "# driver.quit()"
   ]
  },
  {
   "cell_type": "code",
   "execution_count": 430,
   "metadata": {},
   "outputs": [
    {
     "data": {
      "text/plain": [
       "['Erling Haaland',\n",
       " 'Bukayo Saka',\n",
       " 'Phil Foden',\n",
       " 'Declan Rice',\n",
       " 'Kai Havertz',\n",
       " 'Rodri',\n",
       " 'Rúben Dias',\n",
       " 'Moisés Caicedo',\n",
       " 'Marcus Rashford',\n",
       " 'Josko Gvardiol',\n",
       " 'Bernardo Silva',\n",
       " 'Martin Ødegaard',\n",
       " 'Dominik Szoboszlai',\n",
       " 'Gabriel Martinelli',\n",
       " 'Jarrod Bowen',\n",
       " 'Rasmus Højlund',\n",
       " 'Bryan Mbeumo',\n",
       " 'Gabriel Jesus',\n",
       " 'Raheem Sterling',\n",
       " 'Mohamed Salah',\n",
       " 'Ederson',\n",
       " 'Trent Alexander-Arnold',\n",
       " 'Sandro Tonali',\n",
       " 'Mason Mount',\n",
       " 'Dejan Kulusevski',\n",
       " 'Jérémy Doku',\n",
       " 'William Saliba',\n",
       " 'Enzo Fernández',\n",
       " 'Darwin Núñez',\n",
       " 'Bruno Guimarães',\n",
       " 'Ollie Watkins',\n",
       " 'Julián Álvarez',\n",
       " 'Alisson',\n",
       " 'Christopher Nkunku',\n",
       " 'Morgan Gibbs-White',\n",
       " 'Douglas Luiz',\n",
       " 'Pau Torres',\n",
       " 'Alexander Isak',\n",
       " 'Luis Díaz',\n",
       " 'Cody Gakpo',\n",
       " 'Manuel Akanji',\n",
       " 'Alexis Mac Allister',\n",
       " 'André Onana',\n",
       " 'Brennan Johnson',\n",
       " 'Andrew Robertson',\n",
       " 'Eberechi Eze',\n",
       " 'Matheus Nunes',\n",
       " 'Gabriel Magalhães',\n",
       " 'Boubacar Kamara',\n",
       " 'Roméo Lavia',\n",
       " 'Jack Grealish',\n",
       " 'John McGinn',\n",
       " 'Ben White',\n",
       " 'Reece James',\n",
       " 'Ryan Gravenberch',\n",
       " 'James Maddison',\n",
       " 'Anthony Gordon',\n",
       " 'John Stones',\n",
       " 'Diogo Jota',\n",
       " 'Conor Gallagher',\n",
       " 'Lucas Paquetá',\n",
       " 'Richarlison',\n",
       " 'Ezri Konsa',\n",
       " 'Edson Álvarez',\n",
       " 'Marc Guéhi',\n",
       " 'Timo Werner',\n",
       " 'Dwight McNeil',\n",
       " 'Michael Olise',\n",
       " 'Mohammed Kudus',\n",
       " 'Heung-min Son',\n",
       " 'Ilya Zabarnyi',\n",
       " 'Kevin De Bruyne',\n",
       " 'Jurrien Timber',\n",
       " 'Youri Tielemans',\n",
       " 'Harvey Barnes',\n",
       " 'Antony',\n",
       " 'Jack Harrison',\n",
       " 'Antonee Robinson',\n",
       " 'Sven Botman',\n",
       " 'Jordan Pickford',\n",
       " 'Diogo Dalot',\n",
       " 'Levi Colwill',\n",
       " 'Dominic Solanke',\n",
       " 'Alejandro Garnacho',\n",
       " 'Nicolas Jackson',\n",
       " 'Cole Palmer',\n",
       " 'Pedro Porro',\n",
       " 'Vitaliy Mykolenko',\n",
       " 'Jacob Ramsey',\n",
       " 'Pierre-Emile Højbjerg',\n",
       " 'Evan Ferguson',\n",
       " 'Marc Cucurella',\n",
       " 'Matty Cash',\n",
       " 'Tomas Soucek',\n",
       " 'Cristian Romero',\n",
       " 'Pervis Estupiñán',\n",
       " 'Harvey Elliott',\n",
       " 'Matheus Cunha',\n",
       " 'James Ward-Prowse',\n",
       " 'Aaron Ramsdale',\n",
       " 'Axel Disasi',\n",
       " 'Oleksandr Zinchenko',\n",
       " 'Emiliano Martínez',\n",
       " 'João Pedro',\n",
       " 'Joachim Andersen',\n",
       " 'Ibrahima Konaté',\n",
       " 'Rico Lewis',\n",
       " 'Justin Kluivert',\n",
       " 'Emerson Royal',\n",
       " 'Casemiro',\n",
       " 'Benoît Badiashile',\n",
       " 'Timothy Castagne',\n",
       " 'Rodrigo Bentancur',\n",
       " 'Ibrahim Sangaré',\n",
       " 'Virgil van Dijk',\n",
       " 'João Palhinha',\n",
       " 'Joe Gomez',\n",
       " 'Danilo',\n",
       " 'Miguel Almirón',\n",
       " 'Alex Iwobi',\n",
       " 'Aaron Hickey',\n",
       " 'Micky van de Ven',\n",
       " 'Max Kilman',\n",
       " 'Kaoru Mitoma',\n",
       " 'Cheick Doucouré',\n",
       " 'Ben Chilwell',\n",
       " 'Sean Longstaff',\n",
       " 'David Raya',\n",
       " 'Tyrick Mitchell',\n",
       " 'Luke Shaw',\n",
       " 'Lisandro Martínez',\n",
       " 'Vitaly Janelt',\n",
       " 'Trevoh Chalobah',\n",
       " 'Robert Sánchez',\n",
       " 'Tyler Adams',\n",
       " 'Nathan Collins',\n",
       " 'Joe Willock',\n",
       " 'Mykhaylo Mudryk',\n",
       " 'Rico Henry',\n",
       " 'James Tarkowski',\n",
       " 'Tyrone Mings',\n",
       " 'James Garner',\n",
       " 'Pedro Neto',\n",
       " 'Wesley Fofana',\n",
       " 'Giovanni Reyna',\n",
       " 'Leandro Trossard',\n",
       " 'Anthony Elanga',\n",
       " 'Kyle Walker',\n",
       " 'Nathan Aké',\n",
       " 'Destiny Udogie',\n",
       " 'Raphaël Varane',\n",
       " 'Ansu Fati',\n",
       " 'Ivan Toney',\n",
       " 'Leon Bailey',\n",
       " 'Callum Hudson-Odoi',\n",
       " 'Nick Pope',\n",
       " 'Joelinton',\n",
       " 'Dango Ouattara',\n",
       " 'Hee-chan Hwang',\n",
       " 'Oliver Skipp',\n",
       " 'Amadou Onana',\n",
       " 'Curtis Jones',\n",
       " 'Jarrad Branthwaite',\n",
       " 'Armando Broja',\n",
       " 'Malo Gusto',\n",
       " 'Facundo Buonanotte',\n",
       " 'Lesley Ugochukwu',\n",
       " 'Kurt Zouma',\n",
       " 'Mathias Jensen',\n",
       " 'Eddie Nketiah',\n",
       " 'Marcus Tavernier',\n",
       " 'Simon Adingra',\n",
       " 'Cameron Archer',\n",
       " 'Aaron Wan-Bissaka',\n",
       " 'Noni Madueke',\n",
       " 'Beto',\n",
       " 'Harry Wilson',\n",
       " 'Radu Drăgușin',\n",
       " 'Wataru Endo',\n",
       " 'Lewis Dunk',\n",
       " 'Jakub Kiwior',\n",
       " 'Tino Livramento',\n",
       " 'David Datro Fofana',\n",
       " 'José Sá',\n",
       " 'Bart Verbruggen',\n",
       " 'Tyrell Malacia',\n",
       " 'Bernd Leno',\n",
       " 'Takehiro Tomiyasu',\n",
       " 'Kalvin Phillips',\n",
       " 'Ethan Pinnock',\n",
       " 'Emiliano Buendía',\n",
       " 'Milos Kerkez',\n",
       " 'Solly March',\n",
       " 'Thomas Partey',\n",
       " 'Dan Burn',\n",
       " 'Yoane Wissa',\n",
       " 'Kieran Trippier',\n",
       " 'Pape Matar Sarr',\n",
       " 'Scott McTominay',\n",
       " 'Nicolás Domínguez',\n",
       " 'Victor Lindelöf',\n",
       " 'Guglielmo Vicario',\n",
       " 'Igor',\n",
       " 'Rayan Aït-Nouri',\n",
       " 'Nélson Semedo',\n",
       " 'Ryan Sessegnon',\n",
       " 'Alex Scott',\n",
       " 'Odysseas Vlachodimos',\n",
       " 'Ryan Christie',\n",
       " 'Calvin Bassey',\n",
       " 'João Gomes',\n",
       " 'Konstantinos Mavropanos',\n",
       " 'Odsonne Edouard',\n",
       " 'Nicolò Zaniolo',\n",
       " 'Matheus França',\n",
       " 'Wilson Odobert',\n",
       " 'Nayef Aguerd',\n",
       " 'James Trafford',\n",
       " 'Gustavo Hamer',\n",
       " 'Christian Eriksen',\n",
       " 'Lucas Digne',\n",
       " 'Romain Faivre',\n",
       " 'Issa Diop',\n",
       " 'Aaron Ramsey',\n",
       " 'Zeki Amdouni',\n",
       " 'Pascal Groß',\n",
       " 'Jean-Ricner Bellegarde',\n",
       " 'Emile Smith Rowe',\n",
       " 'Jacob Murphy',\n",
       " 'Kristoffer Ajer',\n",
       " 'Yves Bissouma',\n",
       " 'Julio Enciso',\n",
       " 'Sander Berge',\n",
       " 'Andreas Pereira',\n",
       " 'Clément Lenglet',\n",
       " 'Jacob Brown',\n",
       " 'Maxwel Cornet',\n",
       " 'Fábio Vieira',\n",
       " 'Carlos Baleba',\n",
       " 'Manor Solomon',\n",
       " 'Sofyan Amrabat',\n",
       " 'Mark Flekken',\n",
       " 'Philip Billing',\n",
       " 'Djordje Petrovic',\n",
       " 'Marcos Senesi',\n",
       " 'Santiago Bueno',\n",
       " 'Enes Ünal',\n",
       " 'Harrison Reed',\n",
       " 'Harry Maguire',\n",
       " 'Jefferson Lerma']"
      ]
     },
     "execution_count": 430,
     "metadata": {},
     "output_type": "execute_result"
    }
   ],
   "source": [
    "names"
   ]
  },
  {
   "cell_type": "code",
   "execution_count": 431,
   "metadata": {},
   "outputs": [
    {
     "data": {
      "text/plain": [
       "250"
      ]
     },
     "execution_count": 431,
     "metadata": {},
     "output_type": "execute_result"
    }
   ],
   "source": [
    "len(names)"
   ]
  },
  {
   "cell_type": "code",
   "execution_count": 432,
   "metadata": {},
   "outputs": [],
   "source": [
    "df = pd.DataFrame({'name': names,\n",
    "                 'position': positions,\n",
    "                'skill': skills,\n",
    "                'pot': pots,\n",
    "                'etv': ETVs})"
   ]
  },
  {
   "cell_type": "code",
   "execution_count": 433,
   "metadata": {},
   "outputs": [],
   "source": [
    "df.to_csv('epl_players.csv')"
   ]
  },
  {
   "cell_type": "code",
   "execution_count": null,
   "metadata": {},
   "outputs": [],
   "source": []
  }
 ],
 "metadata": {
  "kernelspec": {
   "display_name": "Python 3",
   "language": "python",
   "name": "python3"
  },
  "language_info": {
   "codemirror_mode": {
    "name": "ipython",
    "version": 3
   },
   "file_extension": ".py",
   "mimetype": "text/x-python",
   "name": "python",
   "nbconvert_exporter": "python",
   "pygments_lexer": "ipython3",
   "version": "3.11.7"
  }
 },
 "nbformat": 4,
 "nbformat_minor": 2
}
