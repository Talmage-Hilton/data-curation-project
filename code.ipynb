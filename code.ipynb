{
 "cells": [
  {
   "cell_type": "code",
   "execution_count": 414,
   "metadata": {},
   "outputs": [],
   "source": [
    "import pandas as pd\n",
    "from selenium import webdriver\n",
    "from selenium.webdriver.chrome.service import Service as ChromeService\n",
    "from webdriver_manager.chrome import ChromeDriverManager\n",
    "from selenium.webdriver.common.by import By\n",
    "from selenium.webdriver.support.ui import WebDriverWait\n",
    "from selenium.webdriver.support import expected_conditions as EC\n",
    "from selenium.common.exceptions import StaleElementReferenceException"
   ]
  },
  {
   "cell_type": "code",
   "execution_count": 415,
   "metadata": {},
   "outputs": [],
   "source": [
    "url = 'https://www.footballtransfers.com/us/players/uk-premier-league'"
   ]
  },
  {
   "cell_type": "code",
   "execution_count": 416,
   "metadata": {},
   "outputs": [],
   "source": [
    "driver = webdriver.Chrome(service=ChromeService(ChromeDriverManager().install()))\n",
    "driver.get(url)"
   ]
  },
  {
   "cell_type": "code",
   "execution_count": 417,
   "metadata": {},
   "outputs": [],
   "source": [
    "container = driver.find_element(By.XPATH, \".//tbody[contains(@id, 'player-table-body')]\")\n",
    "all_players = container.find_elements(By.TAG_NAME, \"tr\")"
   ]
  },
  {
   "cell_type": "code",
   "execution_count": 418,
   "metadata": {},
   "outputs": [],
   "source": [
    "players = driver.find_element(By.XPATH, \".//tbody[contains(@id, 'player-table-body')]\")"
   ]
  },
  {
   "cell_type": "code",
   "execution_count": 419,
   "metadata": {},
   "outputs": [],
   "source": [
    "player_name = players.find_element(By.XPATH, \".//div[contains(@class, 'text')]\").text.split('\\n')[0]"
   ]
  },
  {
   "cell_type": "code",
   "execution_count": 420,
   "metadata": {},
   "outputs": [],
   "source": [
    "player_position = players.find_element(By.XPATH, \".//div[contains(@class, 'text')]\").text.split('\\n')[1]"
   ]
  },
  {
   "cell_type": "code",
   "execution_count": 421,
   "metadata": {},
   "outputs": [],
   "source": [
    "player_skill = players.find_element(By.XPATH, \".//div[contains(@class, 'table-skill')]\").text.split('\\n')[0]"
   ]
  },
  {
   "cell_type": "code",
   "execution_count": 422,
   "metadata": {},
   "outputs": [],
   "source": [
    "player_pot = players.find_element(By.XPATH, \".//div[contains(@class, 'table-skill')]\").text.split('\\n')[1]"
   ]
  },
  {
   "cell_type": "code",
   "execution_count": 423,
   "metadata": {},
   "outputs": [],
   "source": [
    "player_etv = players.find_element(By.XPATH, \".//td[contains(@class, 'text-center')]\").text[1:]"
   ]
  },
  {
   "cell_type": "code",
   "execution_count": null,
   "metadata": {},
   "outputs": [],
   "source": []
  },
  {
   "cell_type": "code",
   "execution_count": 424,
   "metadata": {},
   "outputs": [],
   "source": [
    "# pagination = driver.find_element(By.XPATH, \".//button[contains(@class, 'pagination_next_button')]\")\n",
    "pagination = driver.find_element(By.XPATH, \".//button[contains(@class, 'btn')]\")"
   ]
  },
  {
   "cell_type": "code",
   "execution_count": null,
   "metadata": {},
   "outputs": [],
   "source": []
  },
  {
   "cell_type": "code",
   "execution_count": 425,
   "metadata": {},
   "outputs": [],
   "source": [
    "all_players = driver.find_elements(By.XPATH, \".//tbody[contains(@id, 'player-table-body')]\")"
   ]
  },
  {
   "cell_type": "code",
   "execution_count": 426,
   "metadata": {},
   "outputs": [],
   "source": [
    "names = []\n",
    "positions = []\n",
    "skills = []\n",
    "pots = []\n",
    "ETVs = []\n",
    "\n",
    "current_page = 1\n",
    "\n",
    "while current_page <= 10:\n",
    "    try:\n",
    "        container = driver.find_element(By.XPATH, \".//tbody[contains(@id, 'player-table-body')]\")\n",
    "        all_players = container.find_elements(By.TAG_NAME, \"tr\")\n",
    "\n",
    "        for player in all_players:\n",
    "            name = player.find_element(By.XPATH, \".//div[contains(@class, 'text')]\").text.split('\\n')[0]\n",
    "            position = player.find_element(By.XPATH, \".//div[contains(@class, 'text')]\").text.split('\\n')[1]\n",
    "            skill = player.find_element(By.XPATH, \".//div[contains(@class, 'table-skill')]\").text.split('\\n')[0]\n",
    "            pot = player.find_element(By.XPATH, \".//div[contains(@class, 'table-skill')]\").text.split('\\n')[1]\n",
    "            etv = player.find_element(By.XPATH, \".//td[contains(@class, 'text-center')]\").text[1:]\n",
    "\n",
    "            names.append(name)\n",
    "            positions.append(position)\n",
    "            skills.append(skill)\n",
    "            pots.append(pot)\n",
    "            ETVs.append(etv)\n",
    "\n",
    "        current_page += 1\n",
    "\n",
    "        try:\n",
    "            next_button = driver.find_element(By.XPATH, \".//button[contains(@class, 'pagination_next_button')]\")\n",
    "            next_button.click()\n",
    "        except:\n",
    "            break  # Exit the loop if the \"Next\" button is not found\n",
    "\n",
    "    except StaleElementReferenceException:\n",
    "        continue"
   ]
  },
  {
   "cell_type": "code",
   "execution_count": 427,
   "metadata": {},
   "outputs": [],
   "source": [
    "# driver.quit()"
   ]
  },
  {
   "cell_type": "code",
   "execution_count": null,
   "metadata": {},
   "outputs": [],
   "source": [
    "names"
   ]
  },
  {
   "cell_type": "code",
   "execution_count": 431,
   "metadata": {},
   "outputs": [
    {
     "data": {
      "text/plain": [
       "250"
      ]
     },
     "execution_count": 431,
     "metadata": {},
     "output_type": "execute_result"
    }
   ],
   "source": [
    "len(names)"
   ]
  },
  {
   "cell_type": "code",
   "execution_count": 432,
   "metadata": {},
   "outputs": [],
   "source": [
    "df = pd.DataFrame({'name': names,\n",
    "                 'position': positions,\n",
    "                'skill': skills,\n",
    "                'pot': pots,\n",
    "                'etv': ETVs})"
   ]
  },
  {
   "cell_type": "code",
   "execution_count": 433,
   "metadata": {},
   "outputs": [],
   "source": [
    "df.to_csv('epl_players.csv')"
   ]
  },
  {
   "cell_type": "code",
   "execution_count": 434,
   "metadata": {},
   "outputs": [
    {
     "data": {
      "text/plain": [
       "name        0\n",
       "position    0\n",
       "skill       0\n",
       "pot         0\n",
       "etv         0\n",
       "dtype: int64"
      ]
     },
     "execution_count": 434,
     "metadata": {},
     "output_type": "execute_result"
    }
   ],
   "source": [
    "df.isna().sum()"
   ]
  },
  {
   "cell_type": "code",
   "execution_count": null,
   "metadata": {},
   "outputs": [],
   "source": []
  }
 ],
 "metadata": {
  "kernelspec": {
   "display_name": "Python 3",
   "language": "python",
   "name": "python3"
  },
  "language_info": {
   "codemirror_mode": {
    "name": "ipython",
    "version": 3
   },
   "file_extension": ".py",
   "mimetype": "text/x-python",
   "name": "python",
   "nbconvert_exporter": "python",
   "pygments_lexer": "ipython3",
   "version": "3.11.7"
  }
 },
 "nbformat": 4,
 "nbformat_minor": 2
}
