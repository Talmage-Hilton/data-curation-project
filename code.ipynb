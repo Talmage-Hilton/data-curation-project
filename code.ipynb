{
 "cells": [
  {
   "cell_type": "code",
   "execution_count": 1,
   "metadata": {},
   "outputs": [],
   "source": [
    "import pandas as pd\n",
    "from selenium import webdriver\n",
    "from selenium.webdriver.chrome.service import Service as ChromeService\n",
    "from webdriver_manager.chrome import ChromeDriverManager\n",
    "from selenium.webdriver.common.by import By\n",
    "from selenium.common.exceptions import StaleElementReferenceException"
   ]
  },
  {
   "cell_type": "code",
   "execution_count": 2,
   "metadata": {},
   "outputs": [],
   "source": [
    "# This is the url of the website we will extract information from\n",
    "url = 'https://www.footballtransfers.com/us/players/uk-premier-league'"
   ]
  },
  {
   "cell_type": "code",
   "execution_count": 3,
   "metadata": {},
   "outputs": [],
   "source": [
    "# Set up Selenium WebDriver instance for Chrome\n",
    "driver = webdriver.Chrome(service=ChromeService(ChromeDriverManager().install()))\n",
    "driver.get(url)"
   ]
  },
  {
   "cell_type": "code",
   "execution_count": 4,
   "metadata": {},
   "outputs": [],
   "source": [
    "# Find where the player's information is located on the page\n",
    "players = driver.find_element(By.XPATH, \".//tbody[contains(@id, 'player-table-body')]\")"
   ]
  },
  {
   "cell_type": "code",
   "execution_count": 5,
   "metadata": {},
   "outputs": [],
   "source": [
    "# Find information for one player"
   ]
  },
  {
   "cell_type": "code",
   "execution_count": 6,
   "metadata": {},
   "outputs": [],
   "source": [
    "# Find the player's name\n",
    "player_name = players.find_element(By.XPATH, \".//div[contains(@class, 'text')]\").text.split('\\n')[0]"
   ]
  },
  {
   "cell_type": "code",
   "execution_count": 7,
   "metadata": {},
   "outputs": [],
   "source": [
    "# Find the player's position\n",
    "player_position = players.find_element(By.XPATH, \".//div[contains(@class, 'text')]\").text.split('\\n')[1]"
   ]
  },
  {
   "cell_type": "code",
   "execution_count": 8,
   "metadata": {},
   "outputs": [],
   "source": [
    "# Find the player's skill rating\n",
    "player_skill = players.find_element(By.XPATH, \".//div[contains(@class, 'table-skill')]\").text.split('\\n')[0]"
   ]
  },
  {
   "cell_type": "code",
   "execution_count": 9,
   "metadata": {},
   "outputs": [],
   "source": [
    "# Find the player's pot\n",
    "player_pot = players.find_element(By.XPATH, \".//div[contains(@class, 'table-skill')]\").text.split('\\n')[1]"
   ]
  },
  {
   "cell_type": "code",
   "execution_count": 10,
   "metadata": {},
   "outputs": [],
   "source": [
    "# Find the player's estimated transfer value\n",
    "player_etv = players.find_element(By.XPATH, \".//td[contains(@class, 'text-center')]\").text[1:]"
   ]
  },
  {
   "cell_type": "code",
   "execution_count": 11,
   "metadata": {},
   "outputs": [],
   "source": [
    "# Create container of all players\n",
    "container = driver.find_element(By.XPATH, \".//tbody[contains(@id, 'player-table-body')]\")"
   ]
  },
  {
   "cell_type": "code",
   "execution_count": 12,
   "metadata": {},
   "outputs": [],
   "source": [
    "# Find all players on the page\n",
    "all_players = driver.find_elements(By.XPATH, \".//tbody[contains(@id, 'player-table-body')]\")"
   ]
  },
  {
   "cell_type": "code",
   "execution_count": 13,
   "metadata": {},
   "outputs": [],
   "source": [
    "# Create the for loop to find the information of the first 250 players"
   ]
  },
  {
   "cell_type": "code",
   "execution_count": 14,
   "metadata": {},
   "outputs": [],
   "source": [
    "# Initiate empty lists where we'll put the player information\n",
    "names = []\n",
    "positions = []\n",
    "skills = []\n",
    "pots = []\n",
    "ETVs = []\n",
    "\n",
    "# Start at page 1\n",
    "current_page = 1\n",
    "\n",
    "# Go through the first 10 pages of players\n",
    "while current_page <= 10:\n",
    "    try:\n",
    "        container = driver.find_element(By.XPATH, \".//tbody[contains(@id, 'player-table-body')]\")\n",
    "        all_players = container.find_elements(By.TAG_NAME, \"tr\")\n",
    "\n",
    "        for player in all_players:\n",
    "            name = player.find_element(By.XPATH, \".//div[contains(@class, 'text')]\").text.split('\\n')[0]\n",
    "            position = player.find_element(By.XPATH, \".//div[contains(@class, 'text')]\").text.split('\\n')[1]\n",
    "            skill = player.find_element(By.XPATH, \".//div[contains(@class, 'table-skill')]\").text.split('\\n')[0]\n",
    "            pot = player.find_element(By.XPATH, \".//div[contains(@class, 'table-skill')]\").text.split('\\n')[1]\n",
    "            etv = player.find_element(By.XPATH, \".//td[contains(@class, 'text-center')]\").text[1:]\n",
    "\n",
    "            names.append(name)\n",
    "            positions.append(position)\n",
    "            skills.append(skill)\n",
    "            pots.append(pot)\n",
    "            ETVs.append(etv)\n",
    "\n",
    "        current_page += 1\n",
    "\n",
    "        try:\n",
    "            next_button = driver.find_element(By.XPATH, \".//button[contains(@class, 'pagination_next_button')]\")\n",
    "            next_button.click() # Go to next page\n",
    "        except:\n",
    "            break  # Exit the loop if the \"Next\" button is not found\n",
    "\n",
    "    except StaleElementReferenceException: # If an element becomes stale, this will allow the program to continue\n",
    "        continue"
   ]
  },
  {
   "cell_type": "code",
   "execution_count": 15,
   "metadata": {},
   "outputs": [],
   "source": [
    "# Make data into a data frame\n",
    "df = pd.DataFrame({'name': names,\n",
    "                 'position': positions,\n",
    "                'skill': skills,\n",
    "                'pot': pots,\n",
    "                'etv': ETVs})"
   ]
  },
  {
   "cell_type": "code",
   "execution_count": 16,
   "metadata": {},
   "outputs": [],
   "source": [
    "# Make data frame a csv file\n",
    "df.to_csv('epl_players.csv')"
   ]
  },
  {
   "cell_type": "code",
   "execution_count": 17,
   "metadata": {},
   "outputs": [
    {
     "data": {
      "text/plain": [
       "name        0\n",
       "position    0\n",
       "skill       0\n",
       "pot         0\n",
       "etv         0\n",
       "dtype: int64"
      ]
     },
     "execution_count": 17,
     "metadata": {},
     "output_type": "execute_result"
    }
   ],
   "source": [
    "# Double check to make sure there is no missing information\n",
    "df.isna().sum()"
   ]
  }
 ],
 "metadata": {
  "kernelspec": {
   "display_name": "Python 3",
   "language": "python",
   "name": "python3"
  },
  "language_info": {
   "codemirror_mode": {
    "name": "ipython",
    "version": 3
   },
   "file_extension": ".py",
   "mimetype": "text/x-python",
   "name": "python",
   "nbconvert_exporter": "python",
   "pygments_lexer": "ipython3",
   "version": "3.11.7"
  }
 },
 "nbformat": 4,
 "nbformat_minor": 2
}
